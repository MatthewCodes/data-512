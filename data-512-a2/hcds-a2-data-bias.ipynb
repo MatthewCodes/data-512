{
 "cells": [
  {
   "cell_type": "markdown",
   "metadata": {},
   "source": [
    "# This notebook is for A2: Bias in data\n",
    "## It will focus on the agression and toxicity datasets from            \n",
    "## https://figshare.com/projects/Wikipedia_Talk/16731"
   ]
  },
  {
   "cell_type": "markdown",
   "metadata": {},
   "source": [
    "### In this notebook I will be atempting to answer the following questions: \n",
    "1. (A) Do demographics have a different idea of what agression is (not uniform distribution)? <br>\n",
    "   (B) The same question but for toxicity\n",
    "   \n",
    "2. (A) Will annotators from high school label less comments as agressive than annotators with a master's or doctorate? <br>\n",
    "   (B) The same question but for toxicity\n",
    "   \n",
    "3. Will there be a positive linear correlation between the number of aggressive labeled comments and toxic labeled comments when grouped by age?\n",
    "\n",
    "4. There is an even distribution of answers from the age and education demographics?\n",
    "\n",
    "The reason why I chose the first two questions was because I wanted to make sure the dataset had some variation and wanted to see if it was in line with the idea that as people get older they become more sensitive. The reason why I asked the third question is because I would expect the toxic comment count and aggressive comment count to be linearly correlated. The fourth question was asked to find out if the dataset was bias towards a certain age or education level."
   ]
  },
  {
   "cell_type": "markdown",
   "metadata": {},
   "source": [
    "## **Step 1** Import the libraries needed"
   ]
  },
  {
   "cell_type": "code",
   "execution_count": 89,
   "metadata": {},
   "outputs": [],
   "source": [
    "import pandas as pd\n",
    "import numpy as np\n",
    "import seaborn as sns\n",
    "import matplotlib.pyplot as plt"
   ]
  },
  {
   "cell_type": "markdown",
   "metadata": {},
   "source": [
    "## **Step 2** Import the data"
   ]
  },
  {
   "cell_type": "markdown",
   "metadata": {},
   "source": [
    "### 2.1 This loads the data from the agression and toxicity csvs (Note they are \\t separated)"
   ]
  },
  {
   "cell_type": "code",
   "execution_count": 136,
   "metadata": {},
   "outputs": [],
   "source": [
    "agression_annotations = pd.read_csv('aggression_annotations.tsv', sep='\\t')\n",
    "a_demographics = pd.read_csv('aggression_worker_demographics.tsv', sep='\\t') \n",
    "\n",
    "toxicity_annotations = pd.read_csv('toxicity_annotations.tsv', sep='\\t')\n",
    "t_demographics = pd.read_csv('toxicity_worker_demographics.tsv', sep='\\t') "
   ]
  },
  {
   "cell_type": "markdown",
   "metadata": {},
   "source": [
    "### 2.2 Join the csvs into their completed versions for agression and toxicity"
   ]
  },
  {
   "cell_type": "code",
   "execution_count": 137,
   "metadata": {},
   "outputs": [],
   "source": [
    "anno_demo = agression_annotations.join(a_demographics.set_index('worker_id'), on='worker_id')\n",
    "t_anno_demo = toxicity_annotations.join(t_demographics.set_index('worker_id'), on='worker_id')\n",
    "\n",
    "t_anno_demo.to_csv(\"toxic_age_education.csv\")\n",
    "anno_demo.to_csv(\"aggressive_age_education.csv\")"
   ]
  },
  {
   "cell_type": "markdown",
   "metadata": {},
   "source": [
    "## **Step 3** Extract education, age, and gender from the dataframes"
   ]
  },
  {
   "cell_type": "markdown",
   "metadata": {},
   "source": [
    "### 3.1 Do the above extraction for the agression dataframe"
   ]
  },
  {
   "cell_type": "code",
   "execution_count": 94,
   "metadata": {},
   "outputs": [],
   "source": [
    "# Here I am getting the aggression education demographic\n",
    "none = anno_demo.loc[anno_demo['education'] == 'none']\n",
    "hs = anno_demo.loc[anno_demo['education'] == 'hs']\n",
    "bachelors = anno_demo.loc[anno_demo['education'] == 'bachelors']\n",
    "masters = anno_demo.loc[anno_demo['education'] == 'masters']\n",
    "doc = anno_demo.loc[anno_demo['education'] == 'doctorate']\n",
    "pro = anno_demo.loc[anno_demo['education'] == 'professional']\n",
    "\n",
    "ages = ['Under 18', '18-30', '30-45', '45-60', 'Over 60']\n",
    "gender = ['female', 'male']\n",
    "\n",
    "# Here I am getting the aggression age demographic\n",
    "_17 = anno_demo.loc[anno_demo['age_group'] == ages[0]]\n",
    "_30 = anno_demo.loc[anno_demo['age_group'] == ages[1]]\n",
    "_45 = anno_demo.loc[anno_demo['age_group'] == ages[2]]\n",
    "_60 = anno_demo.loc[anno_demo['age_group'] == ages[3]]\n",
    "old = anno_demo.loc[anno_demo['age_group'] == ages[4]]\n",
    "\n",
    "# Here I am getting the aggression gender demographic\n",
    "f = anno_demo.loc[anno_demo['gender'] == gender[0]]\n",
    "m = anno_demo.loc[anno_demo['gender'] == gender[1]]"
   ]
  },
  {
   "cell_type": "markdown",
   "metadata": {},
   "source": [
    "### 3.2 Create 3 dataframes that contain the amount of agressivly labeled comments based on (education, age, and gender)"
   ]
  },
  {
   "cell_type": "code",
   "execution_count": 97,
   "metadata": {},
   "outputs": [],
   "source": [
    "ae =pd.DataFrame({\"aggressive count\": [sum(list(none['aggression'])), sum(list(hs['aggression'])), sum(list(bachelors['aggression'])),\n",
    "                                      sum(list(masters['aggression'])), sum(list(doc['aggression'])), sum(list(pro['aggression']))],\n",
    "                  \"Education\": [\"None\", \"HS\", \"Bachelors\", \"Masters\", \"Doc.\", \"Pro\"] })\n",
    "\n",
    "aa =pd.DataFrame({\"aggressive count\": [sum(list(_17['aggression'])), sum(list(_30['aggression'])), sum(list(_45['aggression'])),\n",
    "                                      sum(list(_60['aggression'])), sum(list(old['aggression']))],\n",
    "                  \"Age\": ages })\n",
    "\n",
    "ag =pd.DataFrame({\"aggressive count\": [sum(list(f['aggression'])), sum(list(m['aggression']))],\n",
    "                  \"Gender\":gender })"
   ]
  },
  {
   "cell_type": "markdown",
   "metadata": {},
   "source": [
    "### 3.3 Do the above extraction for the toxicity dataframe"
   ]
  },
  {
   "cell_type": "code",
   "execution_count": 98,
   "metadata": {},
   "outputs": [],
   "source": [
    "# Here I am getting the toxicity education demographic \n",
    "none = t_anno_demo.loc[t_anno_demo['education'] == 'none']\n",
    "hs = t_anno_demo.loc[t_anno_demo['education'] == 'hs']\n",
    "bachelors = t_anno_demo.loc[t_anno_demo['education'] == 'bachelors']\n",
    "masters = t_anno_demo.loc[t_anno_demo['education'] == 'masters']\n",
    "doc = t_anno_demo.loc[t_anno_demo['education'] == 'doctorate']\n",
    "pro = t_anno_demo.loc[t_anno_demo['education'] == 'professional']\n",
    "\n",
    "ages = ['Under 18', '18-30', '30-45', '45-60', 'Over 60']\n",
    "gender = ['female', 'male']\n",
    "\n",
    "# Here I am getting the toxicity age demographic\n",
    "_17 = t_anno_demo.loc[t_anno_demo['age_group'] == ages[0]]\n",
    "_30 = t_anno_demo.loc[t_anno_demo['age_group'] == ages[1]]\n",
    "_45 = t_anno_demo.loc[t_anno_demo['age_group'] == ages[2]]\n",
    "_60 = t_anno_demo.loc[t_anno_demo['age_group'] == ages[3]]\n",
    "old = t_anno_demo.loc[t_anno_demo['age_group'] == ages[4]]\n",
    "\n",
    "# Here I am getting the toxicity gender demographic\n",
    "f = t_anno_demo.loc[t_anno_demo['gender'] == gender[0]]\n",
    "m = t_anno_demo.loc[t_anno_demo['gender'] == gender[1]]"
   ]
  },
  {
   "cell_type": "markdown",
   "metadata": {},
   "source": [
    "### 3.4 Create 3 dataframes that contain the amount of toxicly labeled comments based on (education, age, and gender)"
   ]
  },
  {
   "cell_type": "code",
   "execution_count": 99,
   "metadata": {},
   "outputs": [],
   "source": [
    "te =pd.DataFrame({\"toxicity count\": [sum(list(none['toxicity'])), sum(list(hs['toxicity'])), sum(list(bachelors['toxicity'])),\n",
    "                                      sum(list(masters['toxicity'])), sum(list(doc['toxicity'])), sum(list(pro['toxicity']))],\n",
    "                  \"Education\": [\"None\", \"HS\", \"Bachelors\", \"Masters\", \"Doc.\", \"Pro\"] })\n",
    "\n",
    "ta =pd.DataFrame({\"toxicity count\": [sum(list(_17['toxicity'])), sum(list(_30['toxicity'])), sum(list(_45['toxicity'])),\n",
    "                                      sum(list(_60['toxicity'])), sum(list(old['toxicity']))],\n",
    "                  \"Age\": ages })\n",
    "\n",
    "tg =pd.DataFrame({\"toxicity count\": [sum(list(f['toxicity'])), sum(list(m['toxicity']))],\n",
    "                  \"Gender\":gender })"
   ]
  },
  {
   "cell_type": "markdown",
   "metadata": {},
   "source": [
    "### 3.5 Combine the aggression and toxicity data frames into 3 final dataframes and creates csvs for the first graph"
   ]
  },
  {
   "cell_type": "code",
   "execution_count": 135,
   "metadata": {},
   "outputs": [],
   "source": [
    "education = ae.join(te.set_index('Education'), on='Education')\n",
    "education = education.set_index('Education')\n",
    "education.to_csv(\"first_graph_education.csv\")\n",
    "\n",
    "age = aa.join(ta.set_index('Age'), on='Age')\n",
    "age = age.set_index('Age')\n",
    "age.to_csv(\"first_graph_age.csv\")\n",
    "\n",
    "gender = ag.join(tg.set_index('Gender'), on='Gender')\n",
    "gender = gender.set_index('Gender')\n",
    "gender.to_csv(\"first_graph_gender.csv\")"
   ]
  },
  {
   "cell_type": "markdown",
   "metadata": {},
   "source": [
    "## **Step 4** Display"
   ]
  },
  {
   "cell_type": "markdown",
   "metadata": {},
   "source": [
    "## 4.1 Displays the dataframes created above and save the figure <a id='cell'></a>"
   ]
  },
  {
   "cell_type": "code",
   "execution_count": 131,
   "metadata": {},
   "outputs": [
    {
     "data": {
      "image/png": "[encoded data removed]",
      "text/plain": [
       "<Figure size 1152x1224 with 4 Axes>"
      ]
     },
     "metadata": {
      "needs_background": "light"
     },
     "output_type": "display_data"
    }
   ],
   "source": [
    "fig, axes = plt.subplots(nrows=2, ncols=2,figsize=(16,17))\n",
    "# Formating for the subplot\n",
    "axes[0,0].set_title(\"Correlation of aggression and toxicity by age\")\n",
    "axes[0,0].set_xlabel(\"Aggressive count\")\n",
    "axes[0,0].set_ylabel(\"Toxicty count\")\n",
    "axes[0,0].scatter(x=age['aggressive count'], y=age['toxicity count'])\n",
    "\n",
    "# Formating for the subplot\n",
    "axes[0,1].set_title(\"Annotation count by Education\")\n",
    "axes[0,1].set_xlabel(\"Education\")\n",
    "axes[0,1].set_ylabel(\"Count\")\n",
    "education.plot(kind='bar',color=['red', '#800080'], ax=axes[0,1])\n",
    "\n",
    "# Formating for the subplot\n",
    "axes[1,0].set_title(\"Annotation count by Age\")\n",
    "axes[1,0].set_xlabel(\"Age\")\n",
    "axes[1,0].set_ylabel(\"Count\")\n",
    "age.plot(kind='bar',rot=0, color=['red', '#800080'], ax=axes[1,0])\n",
    "\n",
    "# Formating for the subplot\n",
    "axes[1,1].set_title(\"Annotation count by Gender\")\n",
    "axes[1,1].set_xlabel(\"Gender\")\n",
    "axes[1,1].set_ylabel(\"Count\")\n",
    "gender.plot(kind='bar',rot=0, color=['red', '#800080'], ax=axes[1,1])\n",
    "\n",
    "plt.savefig(\"first_graph.png\")"
   ]
  },
  {
   "cell_type": "markdown",
   "metadata": {},
   "source": [
    "## This is a snippet of the toxicity data"
   ]
  },
  {
   "cell_type": "code",
   "execution_count": 112,
   "metadata": {},
   "outputs": [
    {
     "data": {
      "text/html": [
       "<div>\n",
       "<style scoped>\n",
       "    .dataframe tbody tr th:only-of-type {\n",
       "        vertical-align: middle;\n",
       "    }\n",
       "\n",
       "    .dataframe tbody tr th {\n",
       "        vertical-align: top;\n",
       "    }\n",
       "\n",
       "    .dataframe thead th {\n",
       "        text-align: right;\n",
       "    }\n",
       "</style>\n",
       "<table border=\"1\" class=\"dataframe\">\n",
       "  <thead>\n",
       "    <tr style=\"text-align: right;\">\n",
       "      <th></th>\n",
       "      <th>rev_id</th>\n",
       "      <th>worker_id</th>\n",
       "      <th>toxicity</th>\n",
       "      <th>toxicity_score</th>\n",
       "      <th>gender</th>\n",
       "      <th>english_first_language</th>\n",
       "      <th>age_group</th>\n",
       "      <th>education</th>\n",
       "    </tr>\n",
       "  </thead>\n",
       "  <tbody>\n",
       "    <tr>\n",
       "      <th>0</th>\n",
       "      <td>2232.0</td>\n",
       "      <td>723</td>\n",
       "      <td>0</td>\n",
       "      <td>0.0</td>\n",
       "      <td>female</td>\n",
       "      <td>0.0</td>\n",
       "      <td>30-45</td>\n",
       "      <td>bachelors</td>\n",
       "    </tr>\n",
       "    <tr>\n",
       "      <th>1</th>\n",
       "      <td>2232.0</td>\n",
       "      <td>4000</td>\n",
       "      <td>0</td>\n",
       "      <td>0.0</td>\n",
       "      <td>male</td>\n",
       "      <td>1.0</td>\n",
       "      <td>18-30</td>\n",
       "      <td>hs</td>\n",
       "    </tr>\n",
       "    <tr>\n",
       "      <th>2</th>\n",
       "      <td>2232.0</td>\n",
       "      <td>3989</td>\n",
       "      <td>0</td>\n",
       "      <td>1.0</td>\n",
       "      <td>female</td>\n",
       "      <td>0.0</td>\n",
       "      <td>18-30</td>\n",
       "      <td>bachelors</td>\n",
       "    </tr>\n",
       "    <tr>\n",
       "      <th>3</th>\n",
       "      <td>2232.0</td>\n",
       "      <td>3341</td>\n",
       "      <td>0</td>\n",
       "      <td>0.0</td>\n",
       "      <td>NaN</td>\n",
       "      <td>NaN</td>\n",
       "      <td>NaN</td>\n",
       "      <td>NaN</td>\n",
       "    </tr>\n",
       "    <tr>\n",
       "      <th>4</th>\n",
       "      <td>2232.0</td>\n",
       "      <td>1574</td>\n",
       "      <td>0</td>\n",
       "      <td>1.0</td>\n",
       "      <td>female</td>\n",
       "      <td>0.0</td>\n",
       "      <td>30-45</td>\n",
       "      <td>bachelors</td>\n",
       "    </tr>\n",
       "  </tbody>\n",
       "</table>\n",
       "</div>"
      ],
      "text/plain": [
       "   rev_id  worker_id  toxicity  toxicity_score  gender  \\\n",
       "0  2232.0        723         0             0.0  female   \n",
       "1  2232.0       4000         0             0.0    male   \n",
       "2  2232.0       3989         0             1.0  female   \n",
       "3  2232.0       3341         0             0.0     NaN   \n",
       "4  2232.0       1574         0             1.0  female   \n",
       "\n",
       "   english_first_language age_group  education  \n",
       "0                     0.0     30-45  bachelors  \n",
       "1                     1.0     18-30         hs  \n",
       "2                     0.0     18-30  bachelors  \n",
       "3                     NaN       NaN        NaN  \n",
       "4                     0.0     30-45  bachelors  "
      ]
     },
     "execution_count": 112,
     "metadata": {},
     "output_type": "execute_result"
    }
   ],
   "source": [
    "t_anno_demo.head()"
   ]
  },
  {
   "cell_type": "markdown",
   "metadata": {},
   "source": [
    "## This is a snippet of the aggression data"
   ]
  },
  {
   "cell_type": "code",
   "execution_count": 108,
   "metadata": {},
   "outputs": [
    {
     "data": {
      "text/html": [
       "<div>\n",
       "<style scoped>\n",
       "    .dataframe tbody tr th:only-of-type {\n",
       "        vertical-align: middle;\n",
       "    }\n",
       "\n",
       "    .dataframe tbody tr th {\n",
       "        vertical-align: top;\n",
       "    }\n",
       "\n",
       "    .dataframe thead th {\n",
       "        text-align: right;\n",
       "    }\n",
       "</style>\n",
       "<table border=\"1\" class=\"dataframe\">\n",
       "  <thead>\n",
       "    <tr style=\"text-align: right;\">\n",
       "      <th></th>\n",
       "      <th>rev_id</th>\n",
       "      <th>worker_id</th>\n",
       "      <th>aggression</th>\n",
       "      <th>aggression_score</th>\n",
       "      <th>gender</th>\n",
       "      <th>english_first_language</th>\n",
       "      <th>age_group</th>\n",
       "      <th>education</th>\n",
       "    </tr>\n",
       "  </thead>\n",
       "  <tbody>\n",
       "    <tr>\n",
       "      <th>0</th>\n",
       "      <td>37675</td>\n",
       "      <td>1362</td>\n",
       "      <td>1.0</td>\n",
       "      <td>-1.0</td>\n",
       "      <td>male</td>\n",
       "      <td>0.0</td>\n",
       "      <td>18-30</td>\n",
       "      <td>masters</td>\n",
       "    </tr>\n",
       "    <tr>\n",
       "      <th>1</th>\n",
       "      <td>37675</td>\n",
       "      <td>2408</td>\n",
       "      <td>0.0</td>\n",
       "      <td>1.0</td>\n",
       "      <td>male</td>\n",
       "      <td>1.0</td>\n",
       "      <td>30-45</td>\n",
       "      <td>hs</td>\n",
       "    </tr>\n",
       "    <tr>\n",
       "      <th>2</th>\n",
       "      <td>37675</td>\n",
       "      <td>1493</td>\n",
       "      <td>0.0</td>\n",
       "      <td>0.0</td>\n",
       "      <td>female</td>\n",
       "      <td>0.0</td>\n",
       "      <td>30-45</td>\n",
       "      <td>bachelors</td>\n",
       "    </tr>\n",
       "    <tr>\n",
       "      <th>3</th>\n",
       "      <td>37675</td>\n",
       "      <td>1439</td>\n",
       "      <td>0.0</td>\n",
       "      <td>0.0</td>\n",
       "      <td>male</td>\n",
       "      <td>0.0</td>\n",
       "      <td>18-30</td>\n",
       "      <td>hs</td>\n",
       "    </tr>\n",
       "    <tr>\n",
       "      <th>4</th>\n",
       "      <td>37675</td>\n",
       "      <td>170</td>\n",
       "      <td>0.0</td>\n",
       "      <td>0.0</td>\n",
       "      <td>NaN</td>\n",
       "      <td>NaN</td>\n",
       "      <td>NaN</td>\n",
       "      <td>NaN</td>\n",
       "    </tr>\n",
       "  </tbody>\n",
       "</table>\n",
       "</div>"
      ],
      "text/plain": [
       "   rev_id  worker_id  aggression  aggression_score  gender  \\\n",
       "0   37675       1362         1.0              -1.0    male   \n",
       "1   37675       2408         0.0               1.0    male   \n",
       "2   37675       1493         0.0               0.0  female   \n",
       "3   37675       1439         0.0               0.0    male   \n",
       "4   37675        170         0.0               0.0     NaN   \n",
       "\n",
       "   english_first_language age_group  education  \n",
       "0                     0.0     18-30    masters  \n",
       "1                     1.0     30-45         hs  \n",
       "2                     0.0     30-45  bachelors  \n",
       "3                     0.0     18-30         hs  \n",
       "4                     NaN       NaN        NaN  "
      ]
     },
     "execution_count": 108,
     "metadata": {},
     "output_type": "execute_result"
    }
   ],
   "source": [
    "anno_demo.head()"
   ]
  },
  {
   "cell_type": "markdown",
   "metadata": {},
   "source": [
    "## 4.2 Displays the distribution of annotator demographics in this experiment based on age and education level <a id='another_cell'></a>"
   ]
  },
  {
   "cell_type": "code",
   "execution_count": 138,
   "metadata": {},
   "outputs": [
    {
     "data": {
      "image/png": "[encoded data removed]",
      "text/plain": [
       "<Figure size 1080x1080 with 4 Axes>"
      ]
     },
     "metadata": {
      "needs_background": "light"
     },
     "output_type": "display_data"
    }
   ],
   "source": [
    "fig, ((ax1, ax2), (ax3, ax4)) = plt.subplots(2, 2,figsize=(15,15))\n",
    "ax1.set_title(\"Toxic Count (Age) \")\n",
    "ax1.bar(list(t_anno_demo.age_group.value_counts().index), t_anno_demo.age_group.value_counts())\n",
    "\n",
    "ax2.set_title(\"Toxic Count (Education)\")\n",
    "ax2.bar(list(t_anno_demo.education.value_counts().index), t_anno_demo.education.value_counts())\n",
    "\n",
    "ax3.set_title(\"Aggression Count (Age) \")\n",
    "ax3.bar(list(anno_demo.age_group.value_counts().index), anno_demo.age_group.value_counts())\n",
    "\n",
    "ax4.set_title(\"Aggression Count (Education)\")\n",
    "ax4.bar(list(anno_demo.education.value_counts().index), anno_demo.education.value_counts())\n",
    "plt.savefig(\"second_graph.png\")"
   ]
  },
  {
   "cell_type": "markdown",
   "metadata": {},
   "source": [
    "## Presentation of results:\n",
    "\n",
    "As you can see from the three bar charts from cell [4.1](#cell) the answer to question 1 is that the different demographics have varying ideas of what toxic/aggressive comments are, there is not a uniform distribution across the different ages, education levels, or genders. If there was a uniform distribution this would make the data appear to be generic.\n",
    "\n",
    "Regarding question 2, from the top right chart on [4.1](#cell) we can see that high school students labeled more comments as toxic/aggressive than people that had a masters degree or doctorate. This is unexpected, I'd assume that people with a higher education would find more things offensive.\n",
    "\n",
    "Regarding question 3 after analyzing the top left chart on [4.1](#cell) there is a positive linear correlation but it is not strictly positive. Generally as someone gets older, the amount of comments they perceive as aggressive is linearly correlated with the amount of comments they perceive as toxic.\n",
    "\n",
    "To answer question 4, we can see from the charts generated in cell [4.2](#another_cell) that there is a clear bias in the people selected to participate in this annotation process. There is a significant amount of more people that only completed highschool or got their bachelors degree than any other category. Also, there is a significant amount of more people that are from ages 18-30, or 30-45 than any other age group. The result of this bias is that these comments are mainly viewed as toxic or aggressive by young people. This means that any model created on this dataset will only find comments that younger people think are negative, completely ingoring comments that older generations and highly educated people think are negative."
   ]
  },
  {
   "cell_type": "markdown",
   "metadata": {},
   "source": [
    "## Implications for research and product development:\n",
    "\n",
    "3. What are some other contexts or applications where you would expect the Perspective API to perform particularly well, or particularly poorly? Why?\n",
    "\n",
    "I would expect this to do very well in filtering out certain content from a social media thread or timeline. For example, if somone wanted to stop seeing \"Election\" on their feed this model should be able to identify that word and different variations of it. The reason why I say, it looks like it would perform well is because of the commnet slider demo application. That application is able to find climate change related comments and display them, so it should be able to do the opposite as well.\n",
    "\n",
    "\n",
    "4. What are some kinds of hostile speech that would be difficult to accurately detect using the approach used to train the Perspective API models? \n",
    "\n",
    "This model would not be great at detecting sarcastic comments. From what I saw the comments that it could detect were obviously hostile but I don't think it would flag a passive aggressive or sarcastic comment. An example would be \"Nooooo of courssssse you're supposed to do that what else would you dooooooo?\"\n",
    "\n",
    "6. Imagine you are one of the Google data scientists who maintains the Perspective API. If you wanted to improve the model or the API itself to make it work better for any of these purposes, how should they go about doing that?\n",
    "\n",
    "In order to imporve this model I would adapt it to use some modern practices in the NLP space such as Transformers. If I didn't want to incorporate a new structure to the model I would just do transfer learning from one of the most succuessful NLP models out. Leveraging the weights of the pld model and tuning them on the data that was used to train the Perspective API model.\n"
   ]
  },
  {
   "cell_type": "code",
   "execution_count": null,
   "metadata": {},
   "outputs": [],
   "source": []
  }
 ],
 "metadata": {
  "kernelspec": {
   "display_name": "Python 3",
   "language": "python",
   "name": "python3"
  },
  "language_info": {
   "codemirror_mode": {
    "name": "ipython",
    "version": 3
   },
   "file_extension": ".py",
   "mimetype": "text/x-python",
   "name": "python",
   "nbconvert_exporter": "python",
   "pygments_lexer": "ipython3",
   "version": "3.7.6"
  }
 },
 "nbformat": 4,
 "nbformat_minor": 4
}
