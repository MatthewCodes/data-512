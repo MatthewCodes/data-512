{
 "cells": [
  {
   "cell_type": "markdown",
   "metadata": {},
   "source": [
    "# This notebook is for A2: Bias in data\n",
    "## It will focus on the agression and toxicity datasets from            \n",
    "## https://figshare.com/projects/Wikipedia_Talk/16731"
   ]
  },
  {
   "cell_type": "markdown",
   "metadata": {},
   "source": [
    "### In this notebook I will be atempting to answer the following questions: \n",
    "1. (A) Demographics have a different idea of what agression is (not uniform distribution)\n",
    "   (B) The same question but for toxicity\n",
    "   \n",
    "2. (A) Annotators from high school will label less comments as agressive than annotators with a master's or doctorate.\n",
    "   (B) The same question but for toxicity\n",
    " \n",
    "   \n",
    "3. There will be a positive linear correlation between the number of aggressive labeled comments and toxic labeled comments when grouped by age.\n",
    "\n",
    "4. There is an even distribution of answers from the age and education demographics."
   ]
  },
  {
   "cell_type": "markdown",
   "metadata": {},
   "source": [
    "## **Step 1** Import the libraries needed"
   ]
  },
  {
   "cell_type": "code",
   "execution_count": 89,
   "metadata": {},
   "outputs": [],
   "source": [
    "import pandas as pd\n",
    "import numpy as np\n",
    "import seaborn as sns\n",
    "import matplotlib.pyplot as plt"
   ]
  },
  {
   "cell_type": "markdown",
   "metadata": {},
   "source": [
    "## **Step 2** Import the data"
   ]
  },
  {
   "cell_type": "markdown",
   "metadata": {},
   "source": [
    "### 2.1 This loads the data from the agression and toxicity csvs (Note they are \\t separated)"
   ]
  },
  {
   "cell_type": "code",
   "execution_count": 90,
   "metadata": {},
   "outputs": [],
   "source": [
    "agression_annotations = pd.read_csv('aggression_annotations.tsv', sep='\\t')\n",
    "a_demographics = pd.read_csv('aggression_worker_demographics.tsv', sep='\\t') #worker\n",
    "\n",
    "toxicity_annotations = pd.read_csv('toxicity_annotations.tsv', sep='\\t')\n",
    "t_demographics = pd.read_csv('toxicity_worker_demographics.tsv', sep='\\t') #worker"
   ]
  },
  {
   "cell_type": "markdown",
   "metadata": {},
   "source": [
    "### 2.2 Joing the csvs into their completed versions for agression and toxicity"
   ]
  },
  {
   "cell_type": "code",
   "execution_count": 91,
   "metadata": {},
   "outputs": [],
   "source": [
    "anno_demo = agression_annotations.join(a_demographics.set_index('worker_id'), on='worker_id')\n",
    "\n",
    "t_anno_demo = toxicity_annotations.join(t_demographics.set_index('worker_id'), on='worker_id')"
   ]
  },
  {
   "cell_type": "markdown",
   "metadata": {},
   "source": [
    "## **Step 3** Extract education, age, and gender from the dataframes"
   ]
  },
  {
   "cell_type": "markdown",
   "metadata": {},
   "source": [
    "### 3.1 Do extraction for the agression dataframe"
   ]
  },
  {
   "cell_type": "code",
   "execution_count": 94,
   "metadata": {},
   "outputs": [],
   "source": [
    "none = anno_demo.loc[anno_demo['education'] == 'none']\n",
    "hs = anno_demo.loc[anno_demo['education'] == 'hs']\n",
    "bachelors = anno_demo.loc[anno_demo['education'] == 'bachelors']\n",
    "masters = anno_demo.loc[anno_demo['education'] == 'masters']\n",
    "doc = anno_demo.loc[anno_demo['education'] == 'doctorate']\n",
    "pro = anno_demo.loc[anno_demo['education'] == 'professional']\n",
    "\n",
    "ages = ['Under 18', '18-30', '30-45', '45-60', 'Over 60']\n",
    "\n",
    "_17 = anno_demo.loc[anno_demo['age_group'] == ages[0]]\n",
    "_30 = anno_demo.loc[anno_demo['age_group'] == ages[1]]\n",
    "_45 = anno_demo.loc[anno_demo['age_group'] == ages[2]]\n",
    "_60 = anno_demo.loc[anno_demo['age_group'] == ages[3]]\n",
    "old = anno_demo.loc[anno_demo['age_group'] == ages[4]]\n",
    "\n",
    "gender = ['female', 'male']\n",
    "\n",
    "f = anno_demo.loc[anno_demo['gender'] == gender[0]]\n",
    "m = anno_demo.loc[anno_demo['gender'] == gender[1]]"
   ]
  },
  {
   "cell_type": "markdown",
   "metadata": {},
   "source": [
    "### 3.2 Create 3 dataframes that contain the amount of agressivly labeled comments based on (education, age, and gender)"
   ]
  },
  {
   "cell_type": "code",
   "execution_count": 97,
   "metadata": {},
   "outputs": [],
   "source": [
    "ae =pd.DataFrame({\"aggressive count\": [sum(list(none['aggression'])), sum(list(hs['aggression'])), sum(list(bachelors['aggression'])),\n",
    "                                      sum(list(masters['aggression'])), sum(list(doc['aggression'])), sum(list(pro['aggression']))],\n",
    "                  \"Education\": [\"None\", \"HS\", \"Bachelors\", \"Masters\", \"Doc.\", \"Pro\"] })\n",
    "\n",
    "aa =pd.DataFrame({\"aggressive count\": [sum(list(_17['aggression'])), sum(list(_30['aggression'])), sum(list(_45['aggression'])),\n",
    "                                      sum(list(_60['aggression'])), sum(list(old['aggression']))],\n",
    "                  \"Age\": ages })\n",
    "\n",
    "ag =pd.DataFrame({\"aggressive count\": [sum(list(f['aggression'])), sum(list(m['aggression']))],\n",
    "                  \"Gender\":gender })"
   ]
  },
  {
   "cell_type": "markdown",
   "metadata": {},
   "source": [
    "### 3.1 Do extraction for the toxicity dataframe"
   ]
  },
  {
   "cell_type": "code",
   "execution_count": 98,
   "metadata": {},
   "outputs": [],
   "source": [
    "# Here I am getting the education demographic to see if the distribution is normal\n",
    "none = t_anno_demo.loc[t_anno_demo['education'] == 'none']\n",
    "hs = t_anno_demo.loc[t_anno_demo['education'] == 'hs']\n",
    "bachelors = t_anno_demo.loc[t_anno_demo['education'] == 'bachelors']\n",
    "masters = t_anno_demo.loc[t_anno_demo['education'] == 'masters']\n",
    "doc = t_anno_demo.loc[t_anno_demo['education'] == 'doctorate']\n",
    "pro = t_anno_demo.loc[t_anno_demo['education'] == 'professional']\n",
    "\n",
    "ages = ['Under 18', '18-30', '30-45', '45-60', 'Over 60']\n",
    "\n",
    "_17 = t_anno_demo.loc[t_anno_demo['age_group'] == ages[0]]\n",
    "_30 = t_anno_demo.loc[t_anno_demo['age_group'] == ages[1]]\n",
    "_45 = t_anno_demo.loc[t_anno_demo['age_group'] == ages[2]]\n",
    "_60 = t_anno_demo.loc[t_anno_demo['age_group'] == ages[3]]\n",
    "old = t_anno_demo.loc[t_anno_demo['age_group'] == ages[4]]\n",
    "\n",
    "gender = ['female', 'male']\n",
    "\n",
    "f = t_anno_demo.loc[t_anno_demo['gender'] == gender[0]]\n",
    "m = t_anno_demo.loc[t_anno_demo['gender'] == gender[1]]"
   ]
  },
  {
   "cell_type": "markdown",
   "metadata": {},
   "source": [
    "### 3.2 Create 3 dataframes that contain the amount of toxicly labeled comments based on (education, age, and gender)"
   ]
  },
  {
   "cell_type": "code",
   "execution_count": 99,
   "metadata": {},
   "outputs": [],
   "source": [
    "te =pd.DataFrame({\"toxicity count\": [sum(list(none['toxicity'])), sum(list(hs['toxicity'])), sum(list(bachelors['toxicity'])),\n",
    "                                      sum(list(masters['toxicity'])), sum(list(doc['toxicity'])), sum(list(pro['toxicity']))],\n",
    "                  \"Education\": [\"None\", \"HS\", \"Bachelors\", \"Masters\", \"Doc.\", \"Pro\"] })\n",
    "\n",
    "ta =pd.DataFrame({\"toxicity count\": [sum(list(_17['toxicity'])), sum(list(_30['toxicity'])), sum(list(_45['toxicity'])),\n",
    "                                      sum(list(_60['toxicity'])), sum(list(old['toxicity']))],\n",
    "                  \"Age\": ages })\n",
    "\n",
    "tg =pd.DataFrame({\"toxicity count\": [sum(list(f['toxicity'])), sum(list(m['toxicity']))],\n",
    "                  \"Gender\":gender })"
   ]
  },
  {
   "cell_type": "markdown",
   "metadata": {},
   "source": [
    "### 3.3 Combine the aggression and toxicity data frames into 3 final dataframes"
   ]
  },
  {
   "cell_type": "code",
   "execution_count": 101,
   "metadata": {},
   "outputs": [],
   "source": [
    "education = ae.join(te.set_index('Education'), on='Education')\n",
    "education = education.set_index('Education')\n",
    "\n",
    "age = aa.join(ta.set_index('Age'), on='Age')\n",
    "age = age.set_index('Age')\n",
    "\n",
    "gender = ag.join(tg.set_index('Gender'), on='Gender')\n",
    "gender = gender.set_index('Gender')"
   ]
  },
  {
   "cell_type": "markdown",
   "metadata": {},
   "source": [
    "## As you can see from the three bar charts below the answer to 1 is that the different demographics have varying ideas of what toxic/aggressive comments are, there is not a uniform distribution across the different ages, education levels, or genders. <br> Create and display above dataframes"
   ]
  },
  {
   "cell_type": "code",
   "execution_count": 110,
   "metadata": {},
   "outputs": [
    {
     "data": {
      "image/png": "[encoded data removed]",
      "text/plain": [
       "<Figure size 1080x1080 with 4 Axes>"
      ]
     },
     "metadata": {
      "needs_background": "light"
     },
     "output_type": "display_data"
    }
   ],
   "source": [
    "fig, axes = plt.subplots(nrows=2, ncols=2,figsize=(15,15))\n",
    "axes[0,0].scatter(x=age['aggressive count'], y=age['toxicity count'])\n",
    "education.plot(kind='bar',color=['red', '#800080'], ax=axes[0,1])\n",
    "age.plot(kind='bar',rot=0, color=['red', '#800080'], ax=axes[1,0])\n",
    "gender.plot(kind='bar',rot=0, color=['red', '#800080'], ax=axes[1,1])\n",
    "\n",
    "plt.savefig(\"first_graph.png\")"
   ]
  },
  {
   "cell_type": "markdown",
   "metadata": {},
   "source": [
    "## From the top right graph we can see that I was wrong with my assumption for question 2. High school students labeled more comments as toxic/aggressive than people that had a masters degree or doctorate. Regarding question 3 there is a positive linear correlation but it is not strictly positive. Generally as someone gets older, the amount of comments they perceive as aggressive is linearly correlated with the amount of comments they perceive as toxic."
   ]
  },
  {
   "cell_type": "code",
   "execution_count": 107,
   "metadata": {},
   "outputs": [
    {
     "data": {
      "text/html": [
       "<div>\n",
       "<style scoped>\n",
       "    .dataframe tbody tr th:only-of-type {\n",
       "        vertical-align: middle;\n",
       "    }\n",
       "\n",
       "    .dataframe tbody tr th {\n",
       "        vertical-align: top;\n",
       "    }\n",
       "\n",
       "    .dataframe thead th {\n",
       "        text-align: right;\n",
       "    }\n",
       "</style>\n",
       "<table border=\"1\" class=\"dataframe\">\n",
       "  <thead>\n",
       "    <tr style=\"text-align: right;\">\n",
       "      <th></th>\n",
       "      <th>rev_id</th>\n",
       "      <th>worker_id</th>\n",
       "      <th>toxicity</th>\n",
       "      <th>toxicity_score</th>\n",
       "      <th>gender</th>\n",
       "      <th>english_first_language</th>\n",
       "      <th>age_group</th>\n",
       "      <th>education</th>\n",
       "    </tr>\n",
       "  </thead>\n",
       "  <tbody>\n",
       "    <tr>\n",
       "      <th>0</th>\n",
       "      <td>2232.0</td>\n",
       "      <td>723</td>\n",
       "      <td>0</td>\n",
       "      <td>0.0</td>\n",
       "      <td>female</td>\n",
       "      <td>0.0</td>\n",
       "      <td>30-45</td>\n",
       "      <td>bachelors</td>\n",
       "    </tr>\n",
       "    <tr>\n",
       "      <th>1</th>\n",
       "      <td>2232.0</td>\n",
       "      <td>4000</td>\n",
       "      <td>0</td>\n",
       "      <td>0.0</td>\n",
       "      <td>male</td>\n",
       "      <td>1.0</td>\n",
       "      <td>18-30</td>\n",
       "      <td>hs</td>\n",
       "    </tr>\n",
       "    <tr>\n",
       "      <th>2</th>\n",
       "      <td>2232.0</td>\n",
       "      <td>3989</td>\n",
       "      <td>0</td>\n",
       "      <td>1.0</td>\n",
       "      <td>female</td>\n",
       "      <td>0.0</td>\n",
       "      <td>18-30</td>\n",
       "      <td>bachelors</td>\n",
       "    </tr>\n",
       "    <tr>\n",
       "      <th>3</th>\n",
       "      <td>2232.0</td>\n",
       "      <td>3341</td>\n",
       "      <td>0</td>\n",
       "      <td>0.0</td>\n",
       "      <td>NaN</td>\n",
       "      <td>NaN</td>\n",
       "      <td>NaN</td>\n",
       "      <td>NaN</td>\n",
       "    </tr>\n",
       "    <tr>\n",
       "      <th>4</th>\n",
       "      <td>2232.0</td>\n",
       "      <td>1574</td>\n",
       "      <td>0</td>\n",
       "      <td>1.0</td>\n",
       "      <td>female</td>\n",
       "      <td>0.0</td>\n",
       "      <td>30-45</td>\n",
       "      <td>bachelors</td>\n",
       "    </tr>\n",
       "  </tbody>\n",
       "</table>\n",
       "</div>"
      ],
      "text/plain": [
       "   rev_id  worker_id  toxicity  toxicity_score  gender  \\\n",
       "0  2232.0        723         0             0.0  female   \n",
       "1  2232.0       4000         0             0.0    male   \n",
       "2  2232.0       3989         0             1.0  female   \n",
       "3  2232.0       3341         0             0.0     NaN   \n",
       "4  2232.0       1574         0             1.0  female   \n",
       "\n",
       "   english_first_language age_group  education  \n",
       "0                     0.0     30-45  bachelors  \n",
       "1                     1.0     18-30         hs  \n",
       "2                     0.0     18-30  bachelors  \n",
       "3                     NaN       NaN        NaN  \n",
       "4                     0.0     30-45  bachelors  "
      ]
     },
     "execution_count": 107,
     "metadata": {},
     "output_type": "execute_result"
    }
   ],
   "source": [
    "t_anno_demo.head()"
   ]
  },
  {
   "cell_type": "code",
   "execution_count": 108,
   "metadata": {},
   "outputs": [
    {
     "data": {
      "text/html": [
       "<div>\n",
       "<style scoped>\n",
       "    .dataframe tbody tr th:only-of-type {\n",
       "        vertical-align: middle;\n",
       "    }\n",
       "\n",
       "    .dataframe tbody tr th {\n",
       "        vertical-align: top;\n",
       "    }\n",
       "\n",
       "    .dataframe thead th {\n",
       "        text-align: right;\n",
       "    }\n",
       "</style>\n",
       "<table border=\"1\" class=\"dataframe\">\n",
       "  <thead>\n",
       "    <tr style=\"text-align: right;\">\n",
       "      <th></th>\n",
       "      <th>rev_id</th>\n",
       "      <th>worker_id</th>\n",
       "      <th>aggression</th>\n",
       "      <th>aggression_score</th>\n",
       "      <th>gender</th>\n",
       "      <th>english_first_language</th>\n",
       "      <th>age_group</th>\n",
       "      <th>education</th>\n",
       "    </tr>\n",
       "  </thead>\n",
       "  <tbody>\n",
       "    <tr>\n",
       "      <th>0</th>\n",
       "      <td>37675</td>\n",
       "      <td>1362</td>\n",
       "      <td>1.0</td>\n",
       "      <td>-1.0</td>\n",
       "      <td>male</td>\n",
       "      <td>0.0</td>\n",
       "      <td>18-30</td>\n",
       "      <td>masters</td>\n",
       "    </tr>\n",
       "    <tr>\n",
       "      <th>1</th>\n",
       "      <td>37675</td>\n",
       "      <td>2408</td>\n",
       "      <td>0.0</td>\n",
       "      <td>1.0</td>\n",
       "      <td>male</td>\n",
       "      <td>1.0</td>\n",
       "      <td>30-45</td>\n",
       "      <td>hs</td>\n",
       "    </tr>\n",
       "    <tr>\n",
       "      <th>2</th>\n",
       "      <td>37675</td>\n",
       "      <td>1493</td>\n",
       "      <td>0.0</td>\n",
       "      <td>0.0</td>\n",
       "      <td>female</td>\n",
       "      <td>0.0</td>\n",
       "      <td>30-45</td>\n",
       "      <td>bachelors</td>\n",
       "    </tr>\n",
       "    <tr>\n",
       "      <th>3</th>\n",
       "      <td>37675</td>\n",
       "      <td>1439</td>\n",
       "      <td>0.0</td>\n",
       "      <td>0.0</td>\n",
       "      <td>male</td>\n",
       "      <td>0.0</td>\n",
       "      <td>18-30</td>\n",
       "      <td>hs</td>\n",
       "    </tr>\n",
       "    <tr>\n",
       "      <th>4</th>\n",
       "      <td>37675</td>\n",
       "      <td>170</td>\n",
       "      <td>0.0</td>\n",
       "      <td>0.0</td>\n",
       "      <td>NaN</td>\n",
       "      <td>NaN</td>\n",
       "      <td>NaN</td>\n",
       "      <td>NaN</td>\n",
       "    </tr>\n",
       "  </tbody>\n",
       "</table>\n",
       "</div>"
      ],
      "text/plain": [
       "   rev_id  worker_id  aggression  aggression_score  gender  \\\n",
       "0   37675       1362         1.0              -1.0    male   \n",
       "1   37675       2408         0.0               1.0    male   \n",
       "2   37675       1493         0.0               0.0  female   \n",
       "3   37675       1439         0.0               0.0    male   \n",
       "4   37675        170         0.0               0.0     NaN   \n",
       "\n",
       "   english_first_language age_group  education  \n",
       "0                     0.0     18-30    masters  \n",
       "1                     1.0     30-45         hs  \n",
       "2                     0.0     30-45  bachelors  \n",
       "3                     0.0     18-30         hs  \n",
       "4                     NaN       NaN        NaN  "
      ]
     },
     "execution_count": 108,
     "metadata": {},
     "output_type": "execute_result"
    }
   ],
   "source": [
    "anno_demo.head()"
   ]
  },
  {
   "cell_type": "markdown",
   "metadata": {},
   "source": [
    "## From the charts below we can see that there is a clear bias in the people selected to participate in this annotation process. There is a significant amount of more people that only completed highschool or got their bachelors degree than any other category. In line with this there is a significant amount of more people that are from ages 18-30, or 30-45 than any other age group. <br> Display the distribution people who participated in this experiment based on age and education level"
   ]
  },
  {
   "cell_type": "code",
   "execution_count": 105,
   "metadata": {},
   "outputs": [
    {
     "data": {
      "text/plain": [
       "<BarContainer object of 7 artists>"
      ]
     },
     "execution_count": 105,
     "metadata": {},
     "output_type": "execute_result"
    },
    {
     "data": {
      "image/png": "[encoded data removed]",
      "text/plain": [
       "<Figure size 1080x1080 with 4 Axes>"
      ]
     },
     "metadata": {
      "needs_background": "light"
     },
     "output_type": "display_data"
    }
   ],
   "source": [
    "fig, ((ax1, ax2), (ax3, ax4)) = plt.subplots(2, 2,figsize=(15,15))\n",
    "ax1.set_title(\"Toxic Age\")\n",
    "ax1.bar(list(t_anno_demo.age_group.value_counts().index), t_anno_demo.age_group.value_counts())\n",
    "ax2.set_title(\"Toxic Ed.\")\n",
    "ax2.bar(list(t_anno_demo.education.value_counts().index), t_anno_demo.education.value_counts())\n",
    "\n",
    "ax3.set_title(\"Aggression Age\")\n",
    "ax3.bar(list(anno_demo.age_group.value_counts().index), anno_demo.age_group.value_counts())\n",
    "ax4.set_title(\"Aggression Ed.\")\n",
    "ax4.bar(list(anno_demo.education.value_counts().index), anno_demo.education.value_counts())"
   ]
  },
  {
   "cell_type": "code",
   "execution_count": null,
   "metadata": {},
   "outputs": [],
   "source": []
  }
 ],
 "metadata": {
  "kernelspec": {
   "display_name": "Python 3",
   "language": "python",
   "name": "python3"
  },
  "language_info": {
   "codemirror_mode": {
    "name": "ipython",
    "version": 3
   },
   "file_extension": ".py",
   "mimetype": "text/x-python",
   "name": "python",
   "nbconvert_exporter": "python",
   "pygments_lexer": "ipython3",
   "version": "3.7.6"
  }
 },
 "nbformat": 4,
 "nbformat_minor": 4
}
